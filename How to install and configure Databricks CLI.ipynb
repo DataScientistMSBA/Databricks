{
 "cells": [
  {
   "attachments": {},
   "cell_type": "markdown",
   "metadata": {},
   "source": [
    "# How to install Databricks CLI:\n",
    "\n",
    "First, go to this [website](https://github.com/databricks/cli/releases) and download the appropriate file per your configuration. Once downloaded, extract the files out of the zip folder and relocated the folder to an appropriate directory (aka, not your Downloads folder). Please note, that Python appears to have issues with version 0.2 as of (6/27/2023). It may be better to just install it using **Command Prompt**.\n",
    "\n",
    "To do this, open up **Command Prompt** and run the below command:\n",
    "\n",
    "    pip install databricks-cli\n",
    "\n",
    "Then check the version by running the below command:\n",
    "\n",
    "    databricks -v\n",
    "\n",
    "If this shows a version greater then 0.1 then congratulations, it is properly installed. "
   ]
  },
  {
   "attachments": {},
   "cell_type": "markdown",
   "metadata": {},
   "source": [
    "Once you confirm that Databricks CLI is installed, you can use token to authenticate it to your account. To do this, run the below command:\n",
    "\n",
    "    databricks configure --token\n",
    "\n",
    "It will first ask for the **Databricks Host**, which is the main URL portion to your Databricks workspace. Enter that and press **Enter**.\n",
    "Next, it will ask to a **Token**. To get one, go to your Databricks portal on your browser and click on your user in the top-right header and select **User Settings**.\n",
    "Next, navigate to the **Access tokens** tab and select **Generate new token**. Give it a name and a lifetime. If lifetime is left null the the token will not expire.\n",
    "\n",
    "Click **generate** and copy and save the token to someplace secure as you will not be able to access it again. Loss of the token will require you to delete the old token and generate a new one."
   ]
  },
  {
   "attachments": {},
   "cell_type": "markdown",
   "metadata": {},
   "source": [
    "To test and see if you have successfully connect, type in the following command into Command Prompt:\n",
    "    \n",
    "    databricks clusters list\n",
    "\n",
    "If a list of clusters populate, then congratulations, you're are successfully connected to the CLI."
   ]
  },
  {
   "attachments": {},
   "cell_type": "markdown",
   "metadata": {},
   "source": []
  }
 ],
 "metadata": {
  "language_info": {
   "name": "python"
  },
  "orig_nbformat": 4
 },
 "nbformat": 4,
 "nbformat_minor": 2
}
